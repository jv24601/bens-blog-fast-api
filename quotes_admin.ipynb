{
 "cells": [
  {
   "cell_type": "code",
   "execution_count": 1,
   "metadata": {},
   "outputs": [],
   "source": [
    "import pandas as pd\n",
    "import sqlite3"
   ]
  },
  {
   "cell_type": "code",
   "execution_count": 2,
   "metadata": {},
   "outputs": [
    {
     "data": {
      "text/plain": [
       "<sqlite3.Cursor at 0x1340306c0>"
      ]
     },
     "execution_count": 2,
     "metadata": {},
     "output_type": "execute_result"
    }
   ],
   "source": [
    "quotes_df = pd.read_csv('quotes.csv')\n",
    "conn = sqlite3.connect('quotes.sqlite')\n",
    "curs = conn.cursor()\n",
    "curs.execute(\"DROP TABLE IF EXISTS Quotes;\")\n"
   ]
  },
  {
   "cell_type": "code",
   "execution_count": 3,
   "metadata": {},
   "outputs": [
    {
     "data": {
      "text/plain": [
       "8"
      ]
     },
     "execution_count": 3,
     "metadata": {},
     "output_type": "execute_result"
    }
   ],
   "source": [
    "quotes_df['_id'] = [_id for _id in range(len(quotes_df.index))]\n",
    "quotes_df.to_sql('Quotes',conn)"
   ]
  },
  {
   "cell_type": "code",
   "execution_count": 4,
   "metadata": {},
   "outputs": [
    {
     "data": {
      "text/plain": [
       "[(0, 'Kurt Vonnegut', 'Slaughterhouse-Five', 'So it goes.'),\n",
       " (1, 'Hermann Hesse', 'Siddhartha', 'I can think. I can wait. I can fast.'),\n",
       " (2,\n",
       "  'Ursula K. Le Guin',\n",
       "  'The Dispossessed',\n",
       "  'To make a thief, make an owner; to create crime, create laws.'),\n",
       " (3,\n",
       "  'Leo Tolstoy',\n",
       "  'War and Peace',\n",
       "  'The strongest of all warriors are these two: Time and Patience.'),\n",
       " (4,\n",
       "  'Magda Szabó',\n",
       "  'The Door',\n",
       "  'Books formed the basis of my world, my unit of measure was the printed word.'),\n",
       " (5,\n",
       "  'Hermann Hesse',\n",
       "  'Steppenwolf',\n",
       "  'In eternity there is no time, only an instant long enough for a joke.'),\n",
       " (6,\n",
       "  'Kurt Vonnegut',\n",
       "  'Cat’s Cradle',\n",
       "  'Live by the foma that make you brave and kind and healthy and happy.'),\n",
       " (7,\n",
       "  'Miguel de Cervantes Saavedra',\n",
       "  'Don Quixote',\n",
       "  'There is no book so bad that it does not have something good in it.')]"
      ]
     },
     "execution_count": 4,
     "metadata": {},
     "output_type": "execute_result"
    }
   ],
   "source": [
    "curs.execute('SELECT _id, author, book, quote FROM Quotes').fetchall()"
   ]
  },
  {
   "cell_type": "code",
   "execution_count": 5,
   "metadata": {},
   "outputs": [],
   "source": [
    "conn.close()"
   ]
  },
  {
   "cell_type": "code",
   "execution_count": null,
   "metadata": {},
   "outputs": [],
   "source": []
  }
 ],
 "metadata": {
  "kernelspec": {
   "display_name": "Python 3",
   "language": "python",
   "name": "python3"
  },
  "language_info": {
   "codemirror_mode": {
    "name": "ipython",
    "version": 3
   },
   "file_extension": ".py",
   "mimetype": "text/x-python",
   "name": "python",
   "nbconvert_exporter": "python",
   "pygments_lexer": "ipython3",
   "version": "3.12.2"
  }
 },
 "nbformat": 4,
 "nbformat_minor": 2
}
